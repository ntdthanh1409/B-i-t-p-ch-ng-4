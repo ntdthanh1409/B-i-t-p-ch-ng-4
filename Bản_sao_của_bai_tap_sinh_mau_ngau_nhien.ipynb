{
  "nbformat": 4,
  "nbformat_minor": 0,
  "metadata": {
    "kernelspec": {
      "display_name": "Python 3",
      "language": "python",
      "name": "python3"
    },
    "language_info": {
      "codemirror_mode": {
        "name": "ipython",
        "version": 3
      },
      "file_extension": ".py",
      "mimetype": "text/x-python",
      "name": "python",
      "nbconvert_exporter": "python",
      "pygments_lexer": "ipython3",
      "version": "3.7.3"
    },
    "colab": {
      "name": "Bản sao của bai-tap-sinh-mau-ngau-nhien.ipynb",
      "provenance": [],
      "include_colab_link": true
    }
  },
  "cells": [
    {
      "cell_type": "markdown",
      "metadata": {
        "id": "view-in-github",
        "colab_type": "text"
      },
      "source": [
        "<a href=\"https://colab.research.google.com/github/ntdthanh1409/B-i-t-p-ch-ng-4/blob/master/B%E1%BA%A3n_sao_c%E1%BB%A7a_bai_tap_sinh_mau_ngau_nhien.ipynb\" target=\"_parent\"><img src=\"https://colab.research.google.com/assets/colab-badge.svg\" alt=\"Open In Colab\"/></a>"
      ]
    },
    {
      "cell_type": "markdown",
      "metadata": {
        "id": "UROOJWvNVH2r"
      },
      "source": [
        "Sử dụng thư viện Numpy\n",
        "\n",
        "1. Sinh mẫu ngẫu nhiên bằng hàm arange trong khoảng [-15, 27] với khoảng cách là 0.7 và in kết quả ra màn hình"
      ]
    },
    {
      "cell_type": "code",
      "metadata": {
        "id": "8jIP32VYXBf7"
      },
      "source": [
        "import numpy as np"
      ],
      "execution_count": 8,
      "outputs": []
    },
    {
      "cell_type": "code",
      "metadata": {
        "id": "S3nAliT7VH2s",
        "colab": {
          "base_uri": "https://localhost:8080/"
        },
        "outputId": "0cf3aa58-673b-47d8-860c-f295e44a5b14"
      },
      "source": [
        "#Code \n",
        "sample_1 = np.arange(-15, 27, 0.7)\n",
        "sample_1"
      ],
      "execution_count": 5,
      "outputs": [
        {
          "output_type": "execute_result",
          "data": {
            "text/plain": [
              "array([-15. , -14.3, -13.6, -12.9, -12.2, -11.5, -10.8, -10.1,  -9.4,\n",
              "        -8.7,  -8. ,  -7.3,  -6.6,  -5.9,  -5.2,  -4.5,  -3.8,  -3.1,\n",
              "        -2.4,  -1.7,  -1. ,  -0.3,   0.4,   1.1,   1.8,   2.5,   3.2,\n",
              "         3.9,   4.6,   5.3,   6. ,   6.7,   7.4,   8.1,   8.8,   9.5,\n",
              "        10.2,  10.9,  11.6,  12.3,  13. ,  13.7,  14.4,  15.1,  15.8,\n",
              "        16.5,  17.2,  17.9,  18.6,  19.3,  20. ,  20.7,  21.4,  22.1,\n",
              "        22.8,  23.5,  24.2,  24.9,  25.6,  26.3,  27. ])"
            ]
          },
          "metadata": {
            "tags": []
          },
          "execution_count": 5
        }
      ]
    },
    {
      "cell_type": "markdown",
      "metadata": {
        "id": "DGUlVysXVH2s"
      },
      "source": [
        "2. Sinh mẫu ngẫu nhiên theo phân phối chuẩn với mean = 2.7 std = 1.2 và size = 40\n",
        "In kết quả ra màn hình"
      ]
    },
    {
      "cell_type": "code",
      "metadata": {
        "id": "gtDxBxUBVH2s",
        "colab": {
          "base_uri": "https://localhost:8080/"
        },
        "outputId": "02bbe365-b2f2-4030-b2af-e65a674c2ade"
      },
      "source": [
        "#Code\n",
        "sample_2 = np.random.normal(loc = 2.7, scale = 1.20, size = 40)\n",
        "sample_2"
      ],
      "execution_count": 7,
      "outputs": [
        {
          "output_type": "execute_result",
          "data": {
            "text/plain": [
              "array([1.47271358, 3.17210565, 2.83914364, 1.90499154, 4.63652263,\n",
              "       2.90944734, 1.74269636, 1.09290125, 2.15470901, 3.27685103,\n",
              "       2.86856234, 4.46497509, 0.98258119, 0.88957065, 2.31750605,\n",
              "       1.9476006 , 3.48557322, 1.2003602 , 1.2389227 , 3.06895158,\n",
              "       2.04534763, 2.21919624, 4.95329361, 1.65951283, 2.21885318,\n",
              "       1.59697056, 2.39911951, 5.18404535, 3.46596123, 4.29449224,\n",
              "       3.27479293, 1.05999005, 4.43969335, 2.71458351, 3.46366147,\n",
              "       2.70877476, 4.37636355, 4.46941903, 0.61948584, 3.20139266])"
            ]
          },
          "metadata": {
            "tags": []
          },
          "execution_count": 7
        }
      ]
    },
    {
      "cell_type": "markdown",
      "metadata": {
        "id": "gQy2x2emVH2t"
      },
      "source": [
        "3. Sinh mẫu ngẫu nhiên từ vector ['Viet Nam', 'Britain', 'France', 'Russia', 'Singapore'] \n",
        "\n",
        "với kích thước là 17 theo phân phối chuẩn"
      ]
    },
    {
      "cell_type": "code",
      "metadata": {
        "id": "BglNQYNKVH2t",
        "colab": {
          "base_uri": "https://localhost:8080/"
        },
        "outputId": "a0520c07-60d9-459f-fad6-9db5878ef6e0"
      },
      "source": [
        "#Code\n",
        "sample_3 = np.random.choice(['Viet Nam', 'Britain', 'France', 'Russia', 'Singapore'], 17)\n",
        "sample_3"
      ],
      "execution_count": 10,
      "outputs": [
        {
          "output_type": "execute_result",
          "data": {
            "text/plain": [
              "array(['Russia', 'Singapore', 'Singapore', 'Singapore', 'Britain',\n",
              "       'Russia', 'Viet Nam', 'Viet Nam', 'Singapore', 'Russia',\n",
              "       'Viet Nam', 'Viet Nam', 'Viet Nam', 'Viet Nam', 'Viet Nam',\n",
              "       'Viet Nam', 'Viet Nam'], dtype='<U9')"
            ]
          },
          "metadata": {
            "tags": []
          },
          "execution_count": 10
        }
      ]
    },
    {
      "cell_type": "markdown",
      "metadata": {
        "id": "3Do5yxWrVH2t"
      },
      "source": [
        "4. Sinh mẫu ngẫu nhiên ở câu 3 nhưng không theo phân phối chuẩn mà theo 1 vector đặc tả giá trị xác suất do bạn chọn"
      ]
    },
    {
      "cell_type": "code",
      "metadata": {
        "id": "OMNW-8SNVH2t",
        "colab": {
          "base_uri": "https://localhost:8080/"
        },
        "outputId": "4c24aa59-e53a-4c02-a626-5619f2ecf5aa"
      },
      "source": [
        "#Code\n",
        "sample_4 = np.random.choice(['Viet Nam', 'Britain', 'France', 'Russia', 'Singapore'], 6, p = [0.1, 0.3, 0.2, 0.2,0.2])\n",
        "print(sample_4)"
      ],
      "execution_count": 13,
      "outputs": [
        {
          "output_type": "stream",
          "text": [
            "['Russia' 'France' 'France' 'Russia' 'Russia' 'France']\n"
          ],
          "name": "stdout"
        }
      ]
    },
    {
      "cell_type": "markdown",
      "metadata": {
        "id": "nLzaAAsQVH2u"
      },
      "source": [
        "Sử dụng thư việc scipy.stats để sinh mẫu ngẫu nhiên\n",
        "\n",
        "1. Sinh mẫu ngẫu nhiên theo phân phối chuẩn với mean = 12.7, std = 2.6 và size = 30. In kết quả ra màn hình"
      ]
    },
    {
      "cell_type": "code",
      "metadata": {
        "id": "0oQ2SV-MX1us"
      },
      "source": [
        "from scipy import stats"
      ],
      "execution_count": 15,
      "outputs": []
    },
    {
      "cell_type": "code",
      "metadata": {
        "id": "y2331TZXVH2u",
        "colab": {
          "base_uri": "https://localhost:8080/"
        },
        "outputId": "8d4c42fb-efb0-4985-dc91-743184a00fc4"
      },
      "source": [
        "#Code\n",
        "sample_5 = stats.norm.rvs(loc = 12.7, scale = 2.6, size = 30)\n",
        "sample_5"
      ],
      "execution_count": 16,
      "outputs": [
        {
          "output_type": "execute_result",
          "data": {
            "text/plain": [
              "array([13.80275698, 13.72465803, 14.79069586, 14.63971321, 12.31521648,\n",
              "       14.05461696, 11.61557594,  6.1533127 , 13.729625  , 12.97913818,\n",
              "       10.7844547 , 13.4388061 , 15.18317289, 17.36609588, 14.6273338 ,\n",
              "       15.73082925, 11.46427774, 11.996609  , 14.67650462, 15.87473864,\n",
              "       12.76341466, 11.20092762, 15.79902227, 13.67918398, 17.75638705,\n",
              "       13.4119121 , 12.84213638, 10.31770335, 14.61104561, 11.51245153])"
            ]
          },
          "metadata": {
            "tags": []
          },
          "execution_count": 16
        }
      ]
    },
    {
      "cell_type": "markdown",
      "metadata": {
        "id": "3lhKFPX7VH2u"
      },
      "source": [
        "2. Hãy sinh một mẫu ngẫu nhiên theo phân phối Poisson"
      ]
    },
    {
      "cell_type": "code",
      "metadata": {
        "id": "JqhXJU0JVH2u",
        "colab": {
          "base_uri": "https://localhost:8080/"
        },
        "outputId": "264d5cb6-1c92-494f-984b-551ce02c07a5"
      },
      "source": [
        "#Code\n",
        "sample_6 = stats.poisson.rvs(loc=18,\n",
        "                              mu=30,\n",
        "                              size=10)\n",
        "sample_6"
      ],
      "execution_count": 18,
      "outputs": [
        {
          "output_type": "execute_result",
          "data": {
            "text/plain": [
              "array([54, 42, 49, 55, 35, 49, 53, 45, 45, 57])"
            ]
          },
          "metadata": {
            "tags": []
          },
          "execution_count": 18
        }
      ]
    },
    {
      "cell_type": "code",
      "metadata": {
        "id": "EaImZBFpVH2u"
      },
      "source": [
        ""
      ],
      "execution_count": null,
      "outputs": []
    }
  ]
}