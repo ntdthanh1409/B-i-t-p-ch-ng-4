{
  "nbformat": 4,
  "nbformat_minor": 0,
  "metadata": {
    "kernelspec": {
      "display_name": "Python 3",
      "language": "python",
      "name": "python3"
    },
    "language_info": {
      "codemirror_mode": {
        "name": "ipython",
        "version": 3
      },
      "file_extension": ".py",
      "mimetype": "text/x-python",
      "name": "python",
      "nbconvert_exporter": "python",
      "pygments_lexer": "ipython3",
      "version": "3.7.3"
    },
    "colab": {
      "name": "Bản sao của bai-tap-kiem-dinh-z-t.ipynb",
      "provenance": [],
      "include_colab_link": true
    }
  },
  "cells": [
    {
      "cell_type": "markdown",
      "metadata": {
        "id": "view-in-github",
        "colab_type": "text"
      },
      "source": [
        "<a href=\"https://colab.research.google.com/github/ntdthanh1409/B-i-t-p-ch-ng-4/blob/master/B%E1%BA%A3n_sao_c%E1%BB%A7a_bai_tap_kiem_dinh_z_t.ipynb\" target=\"_parent\"><img src=\"https://colab.research.google.com/assets/colab-badge.svg\" alt=\"Open In Colab\"/></a>"
      ]
    },
    {
      "cell_type": "markdown",
      "metadata": {
        "id": "LUGJFm2kgv8K"
      },
      "source": [
        "XÂY DỰNG CHƯƠNG TRÌNH KIỂM ĐỊNH Z (HOẶC T) CHO CÁC BÀI TẬP SAU\n",
        "\n",
        "Gợi ý:\n",
        "\n",
        "- Số liệu được sinh ngẫu nhiên theo phân phối chuẩn\n",
        "- Sử dụng gói phần mềm statsmodels để tiến hành kiểm định\n",
        "- Đối với các bài tập kiểm định giả thuyết thì sinh viên cần phát biểu các giả thuyết (bằng tiếng Việt) $H_{0}$ và $H_{a}$ trước khi lập trình kiểm định"
      ]
    },
    {
      "cell_type": "markdown",
      "metadata": {
        "id": "dJJSoKd0gv8Q"
      },
      "source": [
        "Bài 1: You’re a Q/C inspector for Gallo. The sample standard deviation for 2-liter bottles is .05 liters.  A random sample of 100 bottles showed sasmple mean = 1.99 liters.  What is the 90%  confidence interval estimate of the true mean amount in 2-liter bottles? "
      ]
    },
    {
      "cell_type": "code",
      "metadata": {
        "id": "gfg2DOwNgv8R",
        "colab": {
          "base_uri": "https://localhost:8080/"
        },
        "outputId": "652ece6a-2f53-4598-aca8-0e9d9e4e1c50"
      },
      "source": [
        "import numpy as np\n",
        "import pandas as pd\n",
        "import random\n",
        "from statsmodels.stats.weightstats import ztest\n",
        "from scipy import stats\n",
        "\n",
        "import warnings\n",
        "\n",
        "\n",
        "warnings.filterwarnings('ignore')\n",
        "\n",
        "alpha = 0.1\n",
        "null_mean = 2\n",
        "sigma = 0.05\n",
        "#Sinh ngẫu nhiên một mẫu 100 phần tử có trung bình mẫu là 2, độ lệch chuẩn là 0.05\n",
        "samples = np.random.normal(1.99, 0.05, 100)\n",
        "#Kiểm định z\n",
        "ztest_Score, p_value= ztest(samples, value = null_mean, alternative='larger')\n",
        "print('z = ', ztest_Score, '; p = ', p_value)\n",
        "if (p_value <  alpha/2):\n",
        "  print(\"Có bằng chứng để bác bỏ giả thuyết H0\")\n",
        "else:\n",
        "  print(\"Chưa có bằng chứng để bác bỏ giả thuyết H0\")\n",
        "print('khoảng tin cậy: ',stats.norm.interval(1-alpha, loc=null_mean, scale=sigma))"
      ],
      "execution_count": 4,
      "outputs": [
        {
          "output_type": "stream",
          "text": [
            "z =  -3.869407058187423 ; p =  0.9999454498196729\n",
            "Chưa có bằng chứng để bác bỏ giả thuyết H0\n",
            "khoảng tin cậy:  (1.9177573186524264, 2.082242681347574)\n"
          ],
          "name": "stdout"
        }
      ]
    },
    {
      "cell_type": "markdown",
      "metadata": {
        "id": "NVblzye4gv8S"
      },
      "source": [
        "Bài 2: You’re a time study analyst in manufacturing.  You’ve recorded the following task times (min.): 3.6, 4.2, 4.0, 3.5, 3.8, 3.1. What is the 90% confidence interval estimate of the population mean task time? "
      ]
    },
    {
      "cell_type": "code",
      "metadata": {
        "id": "GDArCvuHgv8S",
        "colab": {
          "base_uri": "https://localhost:8080/"
        },
        "outputId": "799f5455-3b06-4242-cf66-66ee4a3f9659"
      },
      "source": [
        "#Code here\n",
        "samples = np.random.normal(1.99, 0.05, 100)\n",
        "null_mean = 2\n",
        "alpha = 0.1\n",
        "sigma = 0.05\n",
        "print('Với độ tin cậy là 90% : ',st.norm.interval(1-alpha, loc=null_mean, scale=sigma))\n",
        "#Kiểm định z\n",
        "ztest_Score, p_value= ztest(samples, value = null_mean, alternative='larger')\n",
        "print('z = ', ztest_Score,\n",
        "       'p = ', p_value)\n",
        "if(p_value <  alpha/2):\n",
        "  print(\"Có bằng chứng để bác bỏ giả thuyết H0\")\n",
        "else:\n",
        "  print(\"Chưa có bằng chứng để bác bỏ giả thuyết H0\")"
      ],
      "execution_count": 5,
      "outputs": [
        {
          "output_type": "stream",
          "text": [
            "Với độ tin cậy là 90% :  (1.9177573186524264, 2.082242681347574)\n",
            "z =  -3.764722947612682 p =  0.9999166330768604\n",
            "Chưa có bằng chứng để bác bỏ giả thuyết H0\n"
          ],
          "name": "stdout"
        }
      ]
    },
    {
      "cell_type": "markdown",
      "metadata": {
        "id": "1fXE-3Itgv8S"
      },
      "source": [
        "Bài 3: Does an average box of cereal contain 368 grams of cereal?  A random sample of 25 boxes had $\\overline{\\rm x}$ = 372.5.  The company has specified $\\sigma$ to be 25 grams.  Test at the .05 level of significance."
      ]
    },
    {
      "cell_type": "code",
      "metadata": {
        "id": "KqzGmis7gv8S",
        "colab": {
          "base_uri": "https://localhost:8080/"
        },
        "outputId": "35dfcc25-52c5-41cd-cdd4-565f2cc82a24"
      },
      "source": [
        "#Code here\n",
        "samples = np.random.normal(372.5, 25, 25)\n",
        "#Kiểm định t\n",
        "ttest_Score, p_value = st.ttest_1samp(samples, null_mean)\n",
        "print('t = ',ttest_Score,', p = ',p_value)\n",
        "if(p_value <  alpha/2):\n",
        "  print(\"Có bằng chứng để bác bỏ giả thuyết H0\")\n",
        "else:\n",
        "  print(\"Chưa có bằng chứng để bác bỏ giả thuyết H0\")"
      ],
      "execution_count": 6,
      "outputs": [
        {
          "output_type": "stream",
          "text": [
            "t =  65.15089186950055 , p =  1.6125155038360993e-28\n",
            "Có bằng chứng để bác bỏ giả thuyết H0\n"
          ],
          "name": "stdout"
        }
      ]
    },
    {
      "cell_type": "markdown",
      "metadata": {
        "id": "YzbZ9WRggv8T"
      },
      "source": [
        "Bài 4: You’re a Q/C inspector.  You want to find out if a new machine is making electrical cords to customer specification: average breaking strength of 70 lb. with $\\sigma$ = 3.5 lb.  You take a sample of 36 cords & compute a sample mean of 69.7 lb.  At the .05 level of significance, is there evidence that the machine is not meeting the average breaking strength?"
      ]
    },
    {
      "cell_type": "code",
      "metadata": {
        "id": "zlw58mZOgv8T",
        "colab": {
          "base_uri": "https://localhost:8080/"
        },
        "outputId": "11262443-4288-4a0b-912b-d3842d4301b6"
      },
      "source": [
        "#Code here\n",
        "alpha = 0.05\n",
        "null_mean = 70\n",
        "#sinh ngẫu nhiên một mẫu 36 phần tử có trung bình mẫu là 69.7 độ lệch chuẩn là 3.5\n",
        "samples = np.random.normal(69.7,3.5,36)\n",
        "#kiểm định z\n",
        "ztest_Score, p_value= ztest(samples, value = null_mean, alternative='larger')\n",
        "print('z = ', ztest_Score, '; p = ', p_value)\n",
        "if (p_value <  alpha) and (ztest_Score<0):\n",
        "  print(\"Có bằng chứng để bác bỏ giả thuyết H0\")\n",
        "else:\n",
        "  print(\"Chưa có bằng chứng để bác bỏ giả thuyết H0\")"
      ],
      "execution_count": 7,
      "outputs": [
        {
          "output_type": "stream",
          "text": [
            "z =  -0.08738086361334031 ; p =  0.5348156100926597\n",
            "Chưa có bằng chứng để bác bỏ giả thuyết H0\n"
          ],
          "name": "stdout"
        }
      ]
    },
    {
      "cell_type": "markdown",
      "metadata": {
        "id": "HqdSS702gv8T"
      },
      "source": [
        "Bài 5: Does an average box of cereal contain more than 368 grams of cereal?  A random sample of 25 boxes showed $\\overline{\\rm x}$ =  372.5.  The company has specified $\\sigma$ to be 25 grams.  Test at the .05 level of significance."
      ]
    },
    {
      "cell_type": "code",
      "metadata": {
        "id": "rE4zwTfugv8T",
        "colab": {
          "base_uri": "https://localhost:8080/"
        },
        "outputId": "0b8920dd-66b0-4498-af72-a9b91761998b"
      },
      "source": [
        "#Code here\n",
        "alpha = 0.05\n",
        "null_mean = 368\n",
        "\n",
        "#Sinh ngẫu nhiên một mẫu 25 phần tử có trung bình mẫu là 372.5, độ lệch chuẩn là 25\n",
        "samples = np.random.normal(372.5, 25, 25)\n",
        "#Kiểm định t\n",
        "ttest_Score, p_value = st.ttest_1samp(samples, null_mean)\n",
        "print('t = ',ttest_Score,', p = ',p_value)\n",
        "if(p_value <  alpha) and (ttest_Score>0):\n",
        "  print(\"Có bằng chứng để bác bỏ giả thuyết H0\")\n",
        "else:\n",
        "  print(\"Chưa có bằng chứng để bác bỏ giả thuyết H0\")"
      ],
      "execution_count": 8,
      "outputs": [
        {
          "output_type": "stream",
          "text": [
            "t =  1.6955381317071672 , p =  0.10291013125622832\n",
            "Chưa có bằng chứng để bác bỏ giả thuyết H0\n"
          ],
          "name": "stdout"
        }
      ]
    },
    {
      "cell_type": "markdown",
      "metadata": {
        "id": "gzdVvFirgv8U"
      },
      "source": [
        "Bài 6: You’re an analyst for Ford.  You want to find out if the average miles per gallon of Escorts is at least 32 mpg. Similar models have a standard deviation of 3.8 mpg. You take a sample of 60 Escorts & compute a sample mean of 30.7 mpg. At the .01 level of significance, is there evidence that the miles per gallon is less than 32?"
      ]
    },
    {
      "cell_type": "code",
      "metadata": {
        "id": "hDDc_Jwygv8U",
        "colab": {
          "base_uri": "https://localhost:8080/"
        },
        "outputId": "0e6b9ba2-66e1-410a-b485-99025df3d8ad"
      },
      "source": [
        "#Code here\n",
        "alpha = 0.01\n",
        "null_mean = 32\n",
        "#sinh ngẫu nhiên một mẫu 60 phần tử có trung bình mẫu là 30.7 độ lệch chuẩn là 3.8\n",
        "samples = np.random.normal(30.7,3.8,60)\n",
        "#kiểm định z\n",
        "ztest_Score, p_value= ztest(samples, value = null_mean, alternative='larger')\n",
        "print('z = ', ztest_Score, '; p = ', p_value)\n",
        "if (p_value <  alpha)and (ztest_Score<0):\n",
        "  print(\"Có bằng chứng để bác bỏ giả thuyết H0\")\n",
        "else:\n",
        "  print(\"Chưa có bằng chứng để bác bỏ giả thuyết H0\")"
      ],
      "execution_count": 9,
      "outputs": [
        {
          "output_type": "stream",
          "text": [
            "z =  -1.3985530925232217 ; p =  0.9190264794817561\n",
            "Chưa có bằng chứng để bác bỏ giả thuyết H0\n"
          ],
          "name": "stdout"
        }
      ]
    },
    {
      "cell_type": "markdown",
      "metadata": {
        "id": "2sH22Idwgv8U"
      },
      "source": [
        "Bài 7: Does an average box of cereal contain 368 grams of cereal?  A random sample of 25 boxes showed $\\overline{\\rm x}$ = 372.5.  The company has specified $\\sigma$ to be 15 grams.  Find the p-Value."
      ]
    },
    {
      "cell_type": "code",
      "metadata": {
        "id": "766VCUAfgv8U",
        "colab": {
          "base_uri": "https://localhost:8080/"
        },
        "outputId": "a4be60f4-bb27-4c72-8717-491d7ea217e3"
      },
      "source": [
        "#Code here\n",
        "#xác định thông số\n",
        "null_mean = 368\n",
        "\n",
        "#Sinh ngẫu nhiên một mẫu 25 phần tử có trung bình mẫu là 372.5, độ lệch chuẩn là 25\n",
        "samples = np.random.normal(372.5, 25, 25)\n",
        "#Kiểm định t\n",
        "ttest_Score, p_value = st.ttest_1samp(samples, null_mean)\n",
        "print('p_value = ',p_value)"
      ],
      "execution_count": 10,
      "outputs": [
        {
          "output_type": "stream",
          "text": [
            "p_value =  0.9927906128197074\n"
          ],
          "name": "stdout"
        }
      ]
    },
    {
      "cell_type": "markdown",
      "metadata": {
        "id": "KaFeplrigv8U"
      },
      "source": [
        "Bài 8: Does an average box of cereal contain more than 368 grams of cereal?  A random sample of 25 boxes showed $\\overline{\\rm x}$ = 372.5.  The company has specified $\\sigma$ to be 15 grams.  Find the p-Value."
      ]
    },
    {
      "cell_type": "code",
      "metadata": {
        "id": "u0UNm8VUgv8U",
        "colab": {
          "base_uri": "https://localhost:8080/"
        },
        "outputId": "cdbcd040-e71b-437f-d4dd-2cec44f48d7f"
      },
      "source": [
        "#Code here\n",
        "null_mean = 368\n",
        "\n",
        "#Sinh ngẫu nhiên một mẫu 25 phần tử có trung bình mẫu là 372.5, độ lệch chuẩn là 25\n",
        "samples = np.random.normal(372.5, 25, 25)\n",
        "#Kiểm định t\n",
        "ttest_Score, p_value = st.ttest_1samp(samples, null_mean)\n",
        "print('p_value = ',p_value)"
      ],
      "execution_count": 11,
      "outputs": [
        {
          "output_type": "stream",
          "text": [
            "p_value =  0.668587956783003\n"
          ],
          "name": "stdout"
        }
      ]
    },
    {
      "cell_type": "markdown",
      "metadata": {
        "id": "YjXf3xq8gv8V"
      },
      "source": [
        "Bài 9: You’re an analyst for Ford.  You want to find out if the average miles per gallon of Escorts is less than 32 mpg.   Similar models have a standard deviation of 3.8 mpg.  You take a sample of 60 Escorts & compute a sample mean of 30.7 mpg.  What is the value of the observed level of significance (p-Value)?"
      ]
    },
    {
      "cell_type": "code",
      "metadata": {
        "id": "lrcIctZrgv8V",
        "colab": {
          "base_uri": "https://localhost:8080/"
        },
        "outputId": "74245ca5-763a-4753-eb91-24c787ac0414"
      },
      "source": [
        "#Code here\n",
        "null_mean = 32\n",
        "#sinh ngẫu nhiên một mẫu 60 phần tử có trung bình mẫu là 30.7 độ lệch chuẩn là 3.8\n",
        "samples = np.random.normal(30.7,3.8,60)\n",
        "#kiểm định z\n",
        "ztest_Score, p_value= ztest(samples, value = null_mean, alternative='larger')\n",
        "print(' p = ', p_value)"
      ],
      "execution_count": 12,
      "outputs": [
        {
          "output_type": "stream",
          "text": [
            " p =  0.9992806765285247\n"
          ],
          "name": "stdout"
        }
      ]
    },
    {
      "cell_type": "markdown",
      "metadata": {
        "id": "EFwDIUHhgv8V"
      },
      "source": [
        "Bài 10: Does an average box of cereal contain 368 grams of cereal?  A random sample of 36 boxes had a mean of 372.5 and a standard deviation of 12 grams. Test at the .05 level of significance."
      ]
    },
    {
      "cell_type": "code",
      "metadata": {
        "id": "tdzi5FzNgv8V",
        "colab": {
          "base_uri": "https://localhost:8080/"
        },
        "outputId": "5e0fb6ec-de64-48cd-b709-17c9fbd50d5d"
      },
      "source": [
        "#Code here\n",
        "alpha = 0.05\n",
        "null_mean = 368\n",
        "\n",
        "#Sinh ngẫu nhiên một mẫu 25 phần tử có trung bình mẫu là 372.5, độ lệch chuẩn là 25\n",
        "samples = np.random.normal(372.5, 12, 36)\n",
        "#Kiểm định z\n",
        "ztest_Score, p_value= ztest(samples, value = null_mean, alternative='larger')\n",
        "print('z = ', ztest_Score, '; p = ', p_value)\n",
        "if (p_value <  alpha/2):\n",
        "  print(\"Có bằng chứng để bác bỏ giả thuyết H0\")\n",
        "else:\n",
        "  print(\"Chưa có bằng chứng để bác bỏ giả thuyết H0\")"
      ],
      "execution_count": 13,
      "outputs": [
        {
          "output_type": "stream",
          "text": [
            "z =  1.9833546383715315 ; p =  0.02366391512592061\n",
            "Có bằng chứng để bác bỏ giả thuyết H0\n"
          ],
          "name": "stdout"
        }
      ]
    },
    {
      "cell_type": "markdown",
      "metadata": {
        "id": "uuEGCrjKgv8V"
      },
      "source": [
        "Bài 11: You work for the FTC.  A manufacturer of detergent claims that the mean weight of detergent is 3.25 lb.  You take a random sample of 64 containers.  You calculate the sample average to be 3.238 lb. with a standard deviation of .117 lb.  At the .01 level of significance, is the manufacturer correct?"
      ]
    },
    {
      "cell_type": "code",
      "metadata": {
        "id": "Mo4o1DFIgv8V",
        "colab": {
          "base_uri": "https://localhost:8080/"
        },
        "outputId": "1c7e6497-1f1e-4fe1-8a18-483cba152127"
      },
      "source": [
        "#Code here\n",
        "alpha = 0.05\n",
        "null_mean = 368\n",
        "\n",
        "#Sinh ngẫu nhiên một mẫu 25 phần tử có trung bình mẫu là 372.5, độ lệch chuẩn là 25\n",
        "samples = np.random.normal(372.5, 12, 36)\n",
        "#Kiểm định z\n",
        "ztest_Score, p_value= ztest(samples, value = null_mean, alternative='larger')\n",
        "print('z = ', ztest_Score, '; p = ', p_value)\n",
        "if (p_value <  alpha/2):\n",
        "  print(\"Có bằng chứng để bác bỏ giả thuyết H0\")\n",
        "else:\n",
        "  print(\"Chưa có bằng chứng để bác bỏ giả thuyết H0\")"
      ],
      "execution_count": 14,
      "outputs": [
        {
          "output_type": "stream",
          "text": [
            "z =  2.5573226153753743 ; p =  0.005274066996654748\n",
            "Có bằng chứng để bác bỏ giả thuyết H0\n"
          ],
          "name": "stdout"
        }
      ]
    },
    {
      "cell_type": "markdown",
      "metadata": {
        "id": "fIpZPsYWgv8W"
      },
      "source": [
        "Bài 12: Is the average capacity of batteries less than 140 ampere-hours?  A random sample of 20 batteries had a mean of 138.47 and a standard deviation of 2.66.  Assume a normal distribution. Test at the .05 level of significance."
      ]
    },
    {
      "cell_type": "code",
      "metadata": {
        "id": "iMuBya-Ygv8W",
        "colab": {
          "base_uri": "https://localhost:8080/"
        },
        "outputId": "b8dfbe8a-5142-4380-f8e0-d8ed8a1b92d9"
      },
      "source": [
        "#Code here\n",
        "alpha = 0.05\n",
        "null_mean = 140\n",
        "#Sinh ngẫu nhiên một mẫu 20 phần tử có trung bình mẫu là 138.47, độ lệch chuẩn là 2.66\n",
        "samples = np.random.normal(138.47, 2.66, 20)\n",
        "#Kiểm định t\n",
        "ttest_Score, p_value = st.ttest_1samp(samples, null_mean)\n",
        "print('t = ',ttest_Score,', p = ',p_value)\n",
        "if(p_value <  alpha) and (ttest_Score>0):\n",
        "  print(\"Có bằng chứng để bác bỏ giả thuyết H0\")\n",
        "else:\n",
        "  print(\"Chưa có bằng chứng để bác bỏ giả thuyết H0\")"
      ],
      "execution_count": 15,
      "outputs": [
        {
          "output_type": "stream",
          "text": [
            "t =  -3.1326318933742177 , p =  0.005481173188903503\n",
            "Chưa có bằng chứng để bác bỏ giả thuyết H0\n"
          ],
          "name": "stdout"
        }
      ]
    },
    {
      "cell_type": "markdown",
      "metadata": {
        "id": "195HwdVlgv8W"
      },
      "source": [
        "Bài 13: You’re a marketing analyst for Wal-Mart.  Wal-Mart had teddy bears on sale last week.  The weekly sales of bears sold in 10 stores was: 8  11  0   4   7   8   10   5   8   3. At the .05 level of significance, is there evidence that the average bear sales per store is more than 5?"
      ]
    },
    {
      "cell_type": "code",
      "metadata": {
        "id": "TnAJCUBvgv8W",
        "colab": {
          "base_uri": "https://localhost:8080/"
        },
        "outputId": "a0d9fc23-f41b-4206-c334-e39c0785189d"
      },
      "source": [
        "#Code here\n",
        "a = np.array([8,11,0,4,7,8,10,5,8,3])\n",
        "alpha = 0.05\n",
        "null_mean = 5\n",
        "#Kiểm định t\n",
        "ttest_Score, p_value = st.ttest_1samp(a, null_mean)\n",
        "print('t = ',ttest_Score,', p = ',p_value)\n",
        "if(p_value <  alpha) and (ttest_Score>0):\n",
        "  print(\"Có bằng chứng để bác bỏ giả thuyết H0\")\n",
        "else:\n",
        "  print(\"Chưa có bằng chứng để bác bỏ giả thuyết H0\")"
      ],
      "execution_count": 16,
      "outputs": [
        {
          "output_type": "stream",
          "text": [
            "t =  1.3125000000000004 , p =  0.2218341554238571\n",
            "Chưa có bằng chứng để bác bỏ giả thuyết H0\n"
          ],
          "name": "stdout"
        }
      ]
    },
    {
      "cell_type": "code",
      "metadata": {
        "id": "8BOKZ9wfgv8W"
      },
      "source": [
        ""
      ],
      "execution_count": 16,
      "outputs": []
    }
  ]
}