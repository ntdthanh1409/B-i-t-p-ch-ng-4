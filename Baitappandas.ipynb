{
  "nbformat": 4,
  "nbformat_minor": 0,
  "metadata": {
    "colab": {
      "name": "Baitappandas.ipynb",
      "provenance": [],
      "collapsed_sections": [],
      "authorship_tag": "ABX9TyMpBEkFo1gJvBEDR/EY70xP",
      "include_colab_link": true
    },
    "kernelspec": {
      "name": "python3",
      "display_name": "Python 3"
    }
  },
  "cells": [
    {
      "cell_type": "markdown",
      "metadata": {
        "id": "view-in-github",
        "colab_type": "text"
      },
      "source": [
        "<a href=\"https://colab.research.google.com/github/ntdthanh1409/B-i-t-p-ch-ng-4/blob/master/Baitappandas.ipynb\" target=\"_parent\"><img src=\"https://colab.research.google.com/assets/colab-badge.svg\" alt=\"Open In Colab\"/></a>"
      ]
    },
    {
      "cell_type": "code",
      "metadata": {
        "id": "4QfcM7iZnvzj"
      },
      "source": [
        "import pandas as pd\r\n",
        "import numpy as np"
      ],
      "execution_count": 9,
      "outputs": []
    },
    {
      "cell_type": "markdown",
      "metadata": {
        "id": "QxeOuW76n05x"
      },
      "source": [
        "Câu 1: Hãy tạo 1 đối tượng kiểu Series có tối thiểu 10 phần tử (kiểu số) với giá trị tùy ý thích của bạn. In giá trị của Series đó ra màn hình"
      ]
    },
    {
      "cell_type": "code",
      "metadata": {
        "colab": {
          "base_uri": "https://localhost:8080/"
        },
        "id": "IKGEva5Sn2xT",
        "outputId": "475f00c8-d1bc-45a8-88b8-e9747791cf5a"
      },
      "source": [
        "s = pd.Series([1,2,3,4,56,6,7,8,9,10,22,34,234])\r\n",
        "print(s)"
      ],
      "execution_count": null,
      "outputs": [
        {
          "output_type": "stream",
          "text": [
            "0       1\n",
            "1       2\n",
            "2       3\n",
            "3       4\n",
            "4      56\n",
            "5       6\n",
            "6       7\n",
            "7       8\n",
            "8       9\n",
            "9      10\n",
            "10     22\n",
            "11     34\n",
            "12    234\n",
            "dtype: int64\n"
          ],
          "name": "stdout"
        }
      ]
    },
    {
      "cell_type": "markdown",
      "metadata": {
        "id": "YsJUEvTXoXZ1"
      },
      "source": [
        "Câu 2: Hãy tạo 1 đối tượng kiểu Series với giá trị khởi tạo hình thành từ dữ liệu kiểu Dictionary. In kết quả ra màn hình"
      ]
    },
    {
      "cell_type": "code",
      "metadata": {
        "colab": {
          "base_uri": "https://localhost:8080/"
        },
        "id": "isEY_L4toZWZ",
        "outputId": "5c0d9ea9-3df3-44e4-92e8-261b876fc7c9"
      },
      "source": [
        "data = {'a' : -1.3, 'b' : 11.7, 'd' : 2.0, 'f': 10, 'g': 5, 'x': 6, 'y' : 7, \"z\" : 11, \"k\" : 22}\r\n",
        "data = pd.Series(data)\r\n",
        "print(data)"
      ],
      "execution_count": null,
      "outputs": [
        {
          "output_type": "stream",
          "text": [
            "a    -1.3\n",
            "b    11.7\n",
            "d     2.0\n",
            "f    10.0\n",
            "g     5.0\n",
            "x     6.0\n",
            "y     7.0\n",
            "z    11.0\n",
            "k    22.0\n",
            "dtype: float64\n"
          ],
          "name": "stdout"
        }
      ]
    },
    {
      "cell_type": "markdown",
      "metadata": {
        "id": "0YBMkgFfopLg"
      },
      "source": [
        "Câu 3: Sử dụng series ở câu 1, hãy thay đổi giá trị của cột index từ kiểu số theo kiểu ký tự với giá trị do bạn tự xác định."
      ]
    },
    {
      "cell_type": "code",
      "metadata": {
        "colab": {
          "base_uri": "https://localhost:8080/"
        },
        "id": "9MoElO1Voqmb",
        "outputId": "5ad0d685-8fa6-48bc-ffc7-6c929b5440cb"
      },
      "source": [
        "s = pd.Series([1,2,3,4,56,6,7,8,9,10,22,34], \r\n",
        "              index=['a','c','b','d','e','f','s','h','x','y','z','t'])\r\n",
        "print(s)"
      ],
      "execution_count": null,
      "outputs": [
        {
          "output_type": "stream",
          "text": [
            "a     1\n",
            "c     2\n",
            "b     3\n",
            "d     4\n",
            "e    56\n",
            "f     6\n",
            "s     7\n",
            "h     8\n",
            "x     9\n",
            "y    10\n",
            "z    22\n",
            "t    34\n",
            "dtype: int64\n"
          ],
          "name": "stdout"
        }
      ]
    },
    {
      "cell_type": "markdown",
      "metadata": {
        "id": "M5rudQ17pSbC"
      },
      "source": [
        "Câu 4: Sử dụng series ở câu 2, hãy truy cập đến phần tử thứ 5 và in ra màn hình"
      ]
    },
    {
      "cell_type": "code",
      "metadata": {
        "colab": {
          "base_uri": "https://localhost:8080/"
        },
        "id": "J3EijzztpRYg",
        "outputId": "df06e1da-b6dc-4570-ab23-59919aeab89b"
      },
      "source": [
        "data = {'a' : -1.3, 'b' : 11.7, 'd' : 2.0, 'f': 10, 'g': 5, 'x': 6, 'y' : 7, \"z\" : 11, \"k\" : 22}\r\n",
        "data = pd.Series(data)\r\n",
        "print(data[4])"
      ],
      "execution_count": null,
      "outputs": [
        {
          "output_type": "stream",
          "text": [
            "5.0\n"
          ],
          "name": "stdout"
        }
      ]
    },
    {
      "cell_type": "markdown",
      "metadata": {
        "id": "ufzozENHsDxl"
      },
      "source": [
        "Câu 5: Sử dụng series ở câu 3, hãy truy cập đến 1 phần tử dựa theo chỉ số kiểu ký tự do bạn lựa chọn và in ra màn hình"
      ]
    },
    {
      "cell_type": "code",
      "metadata": {
        "colab": {
          "base_uri": "https://localhost:8080/"
        },
        "id": "qWQzajPKsDXz",
        "outputId": "33dfcded-a8d3-463c-c12e-cb86919b6ade"
      },
      "source": [
        "s = pd.Series([1,2,3,4,56,6,7,8,9,10,22,34], \r\n",
        "              index=['a','c','b','d','e','f','s','h','x','y','z','t'])\r\n",
        "print(s['a'])"
      ],
      "execution_count": null,
      "outputs": [
        {
          "output_type": "stream",
          "text": [
            "1\n"
          ],
          "name": "stdout"
        }
      ]
    },
    {
      "cell_type": "markdown",
      "metadata": {
        "id": "jdccEVxdsV5y"
      },
      "source": [
        "Câu 6: Sử dụng series ở câu 3, hãy tìm ra tính chất đặc thù trong các chỉ số kiểu kí tự, thực hiện vòng lặp for duyệt trên các chỉ mục kiểu kí tự này để lọc ra những phần tử thỏa mãn điều kiện và in ra màn hình"
      ]
    },
    {
      "cell_type": "code",
      "metadata": {
        "id": "3dsoxsfut0ja",
        "colab": {
          "base_uri": "https://localhost:8080/"
        },
        "outputId": "83b6c7e8-a5ea-4684-ec13-5049c58f2c07"
      },
      "source": [
        "s = pd.Series([1,2,3,4,56,6,7,8,9,10,22,34], \r\n",
        "              index=['a1','a2','a3','a4','a5','a6','s','h','x','y','z','t'])\r\n",
        "s[[name.startswith('a') for name in s.index]]"
      ],
      "execution_count": 10,
      "outputs": [
        {
          "output_type": "execute_result",
          "data": {
            "text/plain": [
              "a1     1\n",
              "a2     2\n",
              "a3     3\n",
              "a4     4\n",
              "a5    56\n",
              "a6     6\n",
              "dtype: int64"
            ]
          },
          "metadata": {
            "tags": []
          },
          "execution_count": 10
        }
      ]
    },
    {
      "cell_type": "markdown",
      "metadata": {
        "id": "pzWdi6LstzNe"
      },
      "source": [
        "Câu 7: Sử dụng series ở câu 1, hãy đổi tên cột index thành 'STT' và đặt tên cho series là 'Gia_tri'. In kết quả ra màn hình"
      ]
    },
    {
      "cell_type": "code",
      "metadata": {
        "id": "RC4R3tXCtyzH",
        "colab": {
          "base_uri": "https://localhost:8080/"
        },
        "outputId": "2bfeaf64-9063-4176-b1e4-8361e8adc86b"
      },
      "source": [
        "s = pd.Series([1,2,3,4,56,6,7,8,9,10,22,34,234])\r\n",
        "s.name = \"Gia_tri\"\r\n",
        "s.index.name = \"STT\"\r\n",
        "s"
      ],
      "execution_count": null,
      "outputs": [
        {
          "output_type": "execute_result",
          "data": {
            "text/plain": [
              "STT\n",
              "0       1\n",
              "1       2\n",
              "2       3\n",
              "3       4\n",
              "4      56\n",
              "5       6\n",
              "6       7\n",
              "7       8\n",
              "8       9\n",
              "9      10\n",
              "10     22\n",
              "11     34\n",
              "12    234\n",
              "Name: Gia_tri, dtype: int64"
            ]
          },
          "metadata": {
            "tags": []
          },
          "execution_count": 10
        }
      ]
    },
    {
      "cell_type": "markdown",
      "metadata": {
        "id": "48JCZv2qt5-I"
      },
      "source": [
        "Câu 8: Hãy áp dụng hàm logarith của gói numpy với series ở câu 1 và in kết quả ra màn hình"
      ]
    },
    {
      "cell_type": "code",
      "metadata": {
        "id": "5sVLfVeyt5iE",
        "colab": {
          "base_uri": "https://localhost:8080/"
        },
        "outputId": "065e74d1-7039-474a-f376-f3b99fa4f7c0"
      },
      "source": [
        "s = pd.Series([1,2,3,4,56,6,7,8,9,10,22,34,234])\r\n",
        "k = np.log(s)\r\n",
        "print(k)"
      ],
      "execution_count": null,
      "outputs": [
        {
          "output_type": "stream",
          "text": [
            "0     0.000000\n",
            "1     0.693147\n",
            "2     1.098612\n",
            "3     1.386294\n",
            "4     4.025352\n",
            "5     1.791759\n",
            "6     1.945910\n",
            "7     2.079442\n",
            "8     2.197225\n",
            "9     2.302585\n",
            "10    3.091042\n",
            "11    3.526361\n",
            "12    5.455321\n",
            "dtype: float64\n"
          ],
          "name": "stdout"
        }
      ]
    },
    {
      "cell_type": "markdown",
      "metadata": {
        "id": "WmUwpKRNuBCh"
      },
      "source": [
        "Câu 9: Lọc các giá trị của series 1 > 15 và in ra màn hình"
      ]
    },
    {
      "cell_type": "code",
      "metadata": {
        "id": "M9V2wpCXt_8o",
        "colab": {
          "base_uri": "https://localhost:8080/"
        },
        "outputId": "7433ebff-7e5c-4208-8640-9428c4e58081"
      },
      "source": [
        "s = pd.Series([1,2,3,4,56,6,7,8,9,10,22,34,234])\r\n",
        "k = s.loc[s > 15]\r\n",
        "print(k)"
      ],
      "execution_count": null,
      "outputs": [
        {
          "output_type": "stream",
          "text": [
            "4      56\n",
            "10     22\n",
            "11     34\n",
            "12    234\n",
            "dtype: int64\n"
          ],
          "name": "stdout"
        }
      ]
    }
  ]
}