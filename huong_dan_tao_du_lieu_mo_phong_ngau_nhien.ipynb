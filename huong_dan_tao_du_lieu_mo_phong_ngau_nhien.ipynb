{
  "nbformat": 4,
  "nbformat_minor": 0,
  "metadata": {
    "kernelspec": {
      "display_name": "Python 3",
      "language": "python",
      "name": "python3"
    },
    "language_info": {
      "codemirror_mode": {
        "name": "ipython",
        "version": 3
      },
      "file_extension": ".py",
      "mimetype": "text/x-python",
      "name": "python",
      "nbconvert_exporter": "python",
      "pygments_lexer": "ipython3",
      "version": "3.7.3"
    },
    "colab": {
      "name": "huong-dan-tao-du-lieu-mo-phong-ngau-nhien.ipynb",
      "provenance": [],
      "include_colab_link": true
    }
  },
  "cells": [
    {
      "cell_type": "markdown",
      "metadata": {
        "id": "view-in-github",
        "colab_type": "text"
      },
      "source": [
        "<a href=\"https://colab.research.google.com/github/ntdthanh1409/B-i-t-p-ch-ng-4/blob/master/huong_dan_tao_du_lieu_mo_phong_ngau_nhien.ipynb\" target=\"_parent\"><img src=\"https://colab.research.google.com/assets/colab-badge.svg\" alt=\"Open In Colab\"/></a>"
      ]
    },
    {
      "cell_type": "markdown",
      "metadata": {
        "id": "kKC9G028VH1r"
      },
      "source": [
        "TẠO DỮ LIỆU MÔ PHỎNG\n",
        "\n",
        "Tạo dữ liệu mô phỏng là một kỹ năng cần thiết của người làm khoa học dữ liệu. \n",
        "\n",
        "Bài học này điểm lại một số hàm phổ biến thường được sử dụng để sinh dữ liệu mô phỏng\n",
        "\n",
        "1. Thư viện numpy "
      ]
    },
    {
      "cell_type": "code",
      "metadata": {
        "id": "UFawEHs3VH1v"
      },
      "source": [
        "import numpy as np\n",
        "\n",
        "#Thiết lập random seed (mục đích để làm gì? - các bạn sv tìm hiểu thêm)\n",
        "np.random.seed(1234)\n",
        "\n",
        "#Sinh ngẫu nhiên dữ liệu theo phân phối chuẩn với các giá trị trung bình (mean), độ lệch chuẩn (standard deviation) và\n",
        "#kích thước tập dữ liệu được sinh ra (size)\n",
        "sample_1 = np.random.normal(loc = 5.5, scale = 2.7, size = 100)\n",
        "\n",
        "#Sinh ngẫu nhiên mẫu thứ 2\n",
        "sample_2 = np.random.normal(loc = 6.7, scale = 3.2, size = 100)"
      ],
      "execution_count": null,
      "outputs": []
    },
    {
      "cell_type": "code",
      "metadata": {
        "id": "oUovqSOfVH1w",
        "outputId": "afeb1547-93cf-4262-c6a7-ea05d6124324"
      },
      "source": [
        "#Xuất dữ liệu của sample_1\n",
        "print(sample_1[:10])"
      ],
      "execution_count": null,
      "outputs": [
        {
          "output_type": "stream",
          "text": [
            "[ 6.77287494  2.28436562  9.36830881  4.65583988  3.55441042  7.89533994\n",
            "  7.82088872  3.78138654  5.5423802  -0.55524938]\n"
          ],
          "name": "stdout"
        }
      ]
    },
    {
      "cell_type": "code",
      "metadata": {
        "id": "sizAduyVVH1x",
        "outputId": "4c8da423-e3ff-4234-83d9-9b83c952406c"
      },
      "source": [
        "#Xuất dữ liệu của sample_2\n",
        "print(sample_2[:10])"
      ],
      "execution_count": null,
      "outputs": [
        {
          "output_type": "stream",
          "text": [
            "[ 7.63185715  8.51290783  8.31149363  7.61294619  8.24972196 11.06314084\n",
            "  4.20046309  5.20234347 10.61863794  2.60045352]\n"
          ],
          "name": "stdout"
        }
      ]
    },
    {
      "cell_type": "markdown",
      "metadata": {
        "id": "tkYfl1NvVH1x"
      },
      "source": [
        "2. Hàm arange\n",
        "\n",
        "Có mục đích là sinh dữ liệu có giá trị cách đều nhau trong một khoảng giá trị cho trước.\n",
        "\n",
        "numpy.arange([start, ]stop, [step, ]dtype=None, *, like=None)\n",
        "\n",
        "start (cận dưới) mặc định là 0; stop là cận trên; step khoảng cách giữa các giá trị (mặc định là 1); "
      ]
    },
    {
      "cell_type": "code",
      "metadata": {
        "id": "O_bA3kGmVH1x",
        "outputId": "edd9a22a-4e46-471b-f147-3ffd53ade81d"
      },
      "source": [
        "#Sinh dữ liệu từ 0 tới 15 với khoảng cách giữa các phần tử mặc định là 1\n",
        "sample_3 = np.arange(15)\n",
        "print(sample_3)"
      ],
      "execution_count": null,
      "outputs": [
        {
          "output_type": "stream",
          "text": [
            "[ 0  1  2  3  4  5  6  7  8  9 10 11 12 13 14]\n"
          ],
          "name": "stdout"
        }
      ]
    },
    {
      "cell_type": "code",
      "metadata": {
        "id": "7084-TCYVH1y",
        "outputId": "3ba88bbf-a585-412a-9f7c-65517ed8a41c"
      },
      "source": [
        "#Sinh dữ liệu từ -7 đến 15 với khoảng cách là 1.5\n",
        "sample_4 = np.arange(-7, 15, 1.5)\n",
        "print(sample_4)"
      ],
      "execution_count": null,
      "outputs": [
        {
          "output_type": "stream",
          "text": [
            "[-7.  -5.5 -4.  -2.5 -1.   0.5  2.   3.5  5.   6.5  8.   9.5 11.  12.5\n",
            " 14. ]\n"
          ],
          "name": "stdout"
        }
      ]
    },
    {
      "cell_type": "markdown",
      "metadata": {
        "id": "EnI2XmpAVH1y"
      },
      "source": [
        "3. Hàm choice\n",
        "\n",
        "Sinh ngẫu nhiên một mẫu từ một mảng 1 chiều.\n",
        "\n",
        "random.choice(a, size=None, replace=True, p=None)\n",
        "\n",
        "Trong đó:\n",
        "\n",
        "- a là một mảng 1 chiều (vector) hay một số nguyên (khi này hoạt động tương tự hàm arange)\n",
        "- size là kích thước mẫu được sinh ra\n",
        "- replace\n",
        "- p là mảng 1 chiều đặc tả xác suất tương ứng với mỗi phần tử của a. Nếu không có p thì mặc định sinh ngẫu nhiên theo phân phối chuẩn"
      ]
    },
    {
      "cell_type": "code",
      "metadata": {
        "id": "Lkdwn-VcVH1y",
        "outputId": "cb7bb5c5-4d1f-4ce5-bad6-48946ace5e1d"
      },
      "source": [
        "#Sinh ngẫu nhien theo phân phối chuẩn 10 phần tử có giá trị lớn nhất (cận trên là 15)\n",
        "sample_5 = np.random.choice(15, 10)\n",
        "print(sample_5)"
      ],
      "execution_count": null,
      "outputs": [
        {
          "output_type": "stream",
          "text": [
            "[14  7  6  3  3 12 12 10 14  0]\n"
          ],
          "name": "stdout"
        }
      ]
    },
    {
      "cell_type": "code",
      "metadata": {
        "id": "0OCh28KtVH1y",
        "outputId": "5009d856-1f12-4f94-b60d-a1f8b1bc4952"
      },
      "source": [
        "#Sinh ngẫu nhiên chuỗi số [-1, 2, 3, 4, 5] với kích thước là 30 theo phân phối chuẩn\n",
        "sample_6 = np.random.choice([-1, 2, 3, 4, 5], 30)\n",
        "print(sample_6)"
      ],
      "execution_count": null,
      "outputs": [
        {
          "output_type": "stream",
          "text": [
            "[ 4  5  3 -1  3  4  2  5  2  4  3  2  3  2  3  3 -1  2  5  5  2  4  3  3\n",
            "  5  3  2  4  4 -1]\n"
          ],
          "name": "stdout"
        }
      ]
    },
    {
      "cell_type": "code",
      "metadata": {
        "id": "5yxSa0NoVH1z",
        "outputId": "b85614c0-0186-4f5c-e45d-fbb7879659ea"
      },
      "source": [
        "#SInh ngẫu nhiên chuỗi giá trị sau ['Huế', 'Đà Nẵng', 'Nha Trang', 'Vũng Tàu'] với kích thước 12 theo phân phối chuẩn\n",
        "sample_7 = np.random.choice(['Huế', 'Đà Nẵng', 'Nha Trang', 'Vũng Tàu'], 12)\n",
        "print(sample_7)"
      ],
      "execution_count": null,
      "outputs": [
        {
          "output_type": "stream",
          "text": [
            "['Vũng Tàu' 'Đà Nẵng' 'Nha Trang' 'Nha Trang' 'Đà Nẵng' 'Nha Trang'\n",
            " 'Đà Nẵng' 'Vũng Tàu' 'Đà Nẵng' 'Vũng Tàu' 'Huế' 'Nha Trang']\n"
          ],
          "name": "stdout"
        }
      ]
    },
    {
      "cell_type": "code",
      "metadata": {
        "id": "Sgs0T0s_VH1z",
        "outputId": "788d0ea8-5b50-44a1-f548-921794a626f0"
      },
      "source": [
        "#Sinh ngẫu nhiên chuỗi các thành phố ở trên nhưng không theo phân phối chuẩn mà theo đặc tả xác suất sau [0.2, 0.6, 0.4, 0.2]\n",
        "#Lưu ý: tổng các xác suất của p bằng 1\n",
        "sample_8 = np.random.choice(['Huế', 'Đà Nẵng', 'Nha Trang', 'Vũng Tàu'], 5, p = [0.2, 0.3, 0.3, 0.2])\n",
        "print(sample_8)"
      ],
      "execution_count": null,
      "outputs": [
        {
          "output_type": "stream",
          "text": [
            "['Đà Nẵng' 'Huế' 'Nha Trang' 'Nha Trang' 'Nha Trang']\n"
          ],
          "name": "stdout"
        }
      ]
    },
    {
      "cell_type": "markdown",
      "metadata": {
        "id": "_x5hMw3_VH1z"
      },
      "source": [
        "4. Thư viện scipy.stats\n",
        "\n",
        "Sinh dữ liệu ngẫu nhiên bằng hàm rvs "
      ]
    },
    {
      "cell_type": "code",
      "metadata": {
        "id": "Mbw27fWEVH1z",
        "outputId": "1d7ea0ec-bf0c-4a3a-edb3-c2421e9a03c3"
      },
      "source": [
        "from scipy import stats\n",
        "\n",
        "#Sinh ngẫu nhiên mẫu theo phân phối chuẩn với mean = 5.5 std = 2.3 và size = 100\n",
        "sample_9 = stats.norm.rvs(loc = 5.5, scale = 2.3, size = 100)\n",
        "print(sample_9[:10])"
      ],
      "execution_count": null,
      "outputs": [
        {
          "output_type": "stream",
          "text": [
            "[3.40888625 6.00050963 6.12716657 5.43829398 2.34261796 8.0528202\n",
            " 4.44416413 4.2515605  7.49963779 5.64517302]\n"
          ],
          "name": "stdout"
        }
      ]
    },
    {
      "cell_type": "code",
      "metadata": {
        "id": "75_aQGEjVH10",
        "outputId": "49d4b22d-ddec-41b9-c0c6-2fd446ba6752"
      },
      "source": [
        "#Sinh ngẫu nhiên dữ liệu theo phân phối Poisson\n",
        "sample_10 = stats.poisson.rvs(loc=18,\n",
        "                              mu=30,\n",
        "                              size=1000)\n",
        "print(sample_10[:10])"
      ],
      "execution_count": null,
      "outputs": [
        {
          "output_type": "stream",
          "text": [
            "[36 63 45 53 44 47 52 46 47 44]\n"
          ],
          "name": "stdout"
        }
      ]
    },
    {
      "cell_type": "code",
      "metadata": {
        "id": "gpGaHzqjVH10"
      },
      "source": [
        ""
      ],
      "execution_count": null,
      "outputs": []
    }
  ]
}